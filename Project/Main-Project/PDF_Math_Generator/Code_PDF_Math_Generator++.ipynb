{
  "cells": [
    {
      "cell_type": "markdown",
      "metadata": {
        "id": "B9IHI_GHudbw"
      },
      "source": [
        "#original"
      ]
    },
    {
      "cell_type": "code",
      "execution_count": 16,
      "metadata": {
        "colab": {
          "base_uri": "https://localhost:8080/",
          "height": 625
        },
        "id": "F2nxjUhhPj33",
        "outputId": "9d17946b-ea5e-4292-bc3c-11e0897ff27b"
      },
      "outputs": [
        {
          "output_type": "stream",
          "name": "stdout",
          "text": [
            "Requirement already satisfied: reportlab in /usr/local/lib/python3.11/dist-packages (4.4.0)\n",
            "Requirement already satisfied: pillow>=9.0.0 in /usr/local/lib/python3.11/dist-packages (from reportlab) (11.1.0)\n",
            "Requirement already satisfied: chardet in /usr/local/lib/python3.11/dist-packages (from reportlab) (5.2.0)\n",
            "PDF Created: /content/PDF_Math_Generator_001.pdf\n",
            "PDF Created: /content/PDF_Math_Generator_002.pdf\n",
            "PDF Created: /content/PDF_Math_Generator_003.pdf\n",
            "PDF Created: /content/PDF_Math_Generator_004.pdf\n",
            "PDF Created: /content/PDF_Math_Generator_005.pdf\n",
            "PDF Created: /content/PDF_Math_Generator_006.pdf\n",
            "PDF Created: /content/PDF_Math_Generator_007.pdf\n",
            "PDF Created: /content/PDF_Math_Generator_008.pdf\n",
            "PDF Created: /content/PDF_Math_Generator_009.pdf\n",
            "PDF Created: /content/PDF_Math_Generator_010.pdf\n",
            "updating: content/PDF_Math_Generator_011.pdf (deflated 42%)\n",
            "updating: content/PDF_Math_Generator_012.pdf (deflated 42%)\n",
            "updating: content/PDF_Math_Generator_013.pdf (deflated 42%)\n",
            "updating: content/PDF_Math_Generator_014.pdf (deflated 42%)\n",
            "updating: content/PDF_Math_Generator_015.pdf (deflated 42%)\n",
            "updating: content/PDF_Math_Generator_016.pdf (deflated 42%)\n",
            "updating: content/PDF_Math_Generator_017.pdf (deflated 42%)\n",
            "updating: content/PDF_Math_Generator_018.pdf (deflated 42%)\n",
            "updating: content/PDF_Math_Generator_019.pdf (deflated 42%)\n",
            "updating: content/PDF_Math_Generator_020.pdf (deflated 42%)\n",
            "updating: content/PDF_Math_Generator_20250418_033855.pdf (deflated 38%)\n",
            "updating: content/PDF_Math_Generator_2025.pdf (deflated 38%)\n",
            "updating: content/PDF_Math_Generator_001.pdf (deflated 42%)\n",
            "updating: content/PDF_Math_Generator_002.pdf (deflated 42%)\n",
            "updating: content/PDF_Math_Generator_003.pdf (deflated 42%)\n",
            "updating: content/PDF_Math_Generator_004.pdf (deflated 42%)\n",
            "updating: content/PDF_Math_Generator_005.pdf (deflated 42%)\n",
            "updating: content/PDF_Math_Generator_006.pdf (deflated 42%)\n",
            "updating: content/PDF_Math_Generator_007.pdf (deflated 42%)\n",
            "updating: content/PDF_Math_Generator_008.pdf (deflated 42%)\n",
            "updating: content/PDF_Math_Generator_009.pdf (deflated 42%)\n",
            "updating: content/PDF_Math_Generator_010.pdf (deflated 42%)\n"
          ]
        },
        {
          "output_type": "display_data",
          "data": {
            "text/plain": [
              "<IPython.core.display.Javascript object>"
            ],
            "application/javascript": [
              "\n",
              "    async function download(id, filename, size) {\n",
              "      if (!google.colab.kernel.accessAllowed) {\n",
              "        return;\n",
              "      }\n",
              "      const div = document.createElement('div');\n",
              "      const label = document.createElement('label');\n",
              "      label.textContent = `Downloading \"${filename}\": `;\n",
              "      div.appendChild(label);\n",
              "      const progress = document.createElement('progress');\n",
              "      progress.max = size;\n",
              "      div.appendChild(progress);\n",
              "      document.body.appendChild(div);\n",
              "\n",
              "      const buffers = [];\n",
              "      let downloaded = 0;\n",
              "\n",
              "      const channel = await google.colab.kernel.comms.open(id);\n",
              "      // Send a message to notify the kernel that we're ready.\n",
              "      channel.send({})\n",
              "\n",
              "      for await (const message of channel.messages) {\n",
              "        // Send a message to notify the kernel that we're ready.\n",
              "        channel.send({})\n",
              "        if (message.buffers) {\n",
              "          for (const buffer of message.buffers) {\n",
              "            buffers.push(buffer);\n",
              "            downloaded += buffer.byteLength;\n",
              "            progress.value = downloaded;\n",
              "          }\n",
              "        }\n",
              "      }\n",
              "      const blob = new Blob(buffers, {type: 'application/binary'});\n",
              "      const a = document.createElement('a');\n",
              "      a.href = window.URL.createObjectURL(blob);\n",
              "      a.download = filename;\n",
              "      div.appendChild(a);\n",
              "      a.click();\n",
              "      div.remove();\n",
              "    }\n",
              "  "
            ]
          },
          "metadata": {}
        },
        {
          "output_type": "display_data",
          "data": {
            "text/plain": [
              "<IPython.core.display.Javascript object>"
            ],
            "application/javascript": [
              "download(\"download_303b378a-8a3d-4dc1-a3a2-f441c44f3094\", \"math_files.zip\", 1523797)"
            ]
          },
          "metadata": {}
        }
      ],
      "source": [
        "!pip install reportlab\n",
        "\n",
        "from reportlab.lib.pagesizes import A4\n",
        "from reportlab.pdfgen import canvas\n",
        "import random\n",
        "import os\n",
        "\n",
        "def generate_math_problems(num_problems):\n",
        "    problems = []\n",
        "    operations = ['+', '-', 'x', '/']\n",
        "    for _ in range(num_problems):\n",
        "        num1 = random.randint(1, 20)\n",
        "        num2 = random.randint(1, 20)\n",
        "        op = random.choice(operations)\n",
        "        if op == '/':\n",
        "            num1 = num1 * num2\n",
        "        problem = f\"{num1} {op} {num2} = \"\n",
        "        if op == '+':\n",
        "            answer = num1 + num2\n",
        "        elif op == '-':\n",
        "            answer = num1 - num2\n",
        "        elif op == 'x':\n",
        "            answer = num1 * num2\n",
        "        elif op == '/':\n",
        "            answer = num1 // num2\n",
        "        problems.append((problem, answer))\n",
        "    return problems\n",
        "\n",
        "def save_to_pdf(problems, filename):\n",
        "    c = canvas.Canvas(filename, pagesize=A4)\n",
        "    width, height = A4\n",
        "    y_position = height - 50\n",
        "    c.setFont(\"Helvetica\", 12)\n",
        "    for i, (problem, answer) in enumerate(problems, start=1):\n",
        "        question_text = f\"{i}.) {problem}\"\n",
        "        answer_label = \"Answer:\"\n",
        "        answer_text = f\"{answer}\"\n",
        "        question_width = c.stringWidth(question_text, \"Helvetica\", 12)\n",
        "        answer_label_width = c.stringWidth(answer_label, \"Helvetica\", 12)\n",
        "        answer_width = c.stringWidth(answer_text, \"Helvetica\", 12)\n",
        "        c.drawString(50, y_position, question_text)\n",
        "        total_width = answer_label_width + answer_width + 10\n",
        "        c.drawString(width - 50 - total_width, y_position, answer_label)\n",
        "        c.drawString(width - 50 - answer_width, y_position, answer_text)\n",
        "        y_position -= 30\n",
        "        if y_position < 50 and i < len(problems):\n",
        "            c.showPage()\n",
        "            c.setFont(\"Helvetica\", 12)\n",
        "            y_position = height - 50\n",
        "    c.save()\n",
        "\n",
        "num_problems = 2025\n",
        "k = 0\n",
        "pdf_files = []\n",
        "for i in range(10):\n",
        "    problems = generate_math_problems(num_problems)\n",
        "    filename = f\"/content/PDF_Math_Generator_{str(i+1+k).zfill(3)}.pdf\"\n",
        "    save_to_pdf(problems, filename)\n",
        "    pdf_files.append(filename)\n",
        "    print(f\"PDF Created: {filename}\")\n",
        "\n",
        "!zip /content/math_files.zip /content/PDF_Math_Generator_*.pdf\n",
        "\n",
        "from google.colab import files\n",
        "files.download('/content/math_files.zip')"
      ]
    },
    {
      "cell_type": "markdown",
      "metadata": {
        "id": "3T69cDYbuky9"
      },
      "source": [
        "#upgrade"
      ]
    },
    {
      "cell_type": "code",
      "execution_count": 17,
      "metadata": {
        "colab": {
          "base_uri": "https://localhost:8080/",
          "height": 364
        },
        "id": "zh0NMYN7vK95",
        "outputId": "9854e2eb-0d03-4d39-8ac2-28db248e2e56"
      },
      "outputs": [
        {
          "output_type": "stream",
          "name": "stdout",
          "text": [
            "PDF Created: /content/PDF_Math_Generator++_001.pdf\n",
            "PDF Created: /content/PDF_Math_Generator++_002.pdf\n",
            "PDF Created: /content/PDF_Math_Generator++_003.pdf\n",
            "PDF Created: /content/PDF_Math_Generator++_004.pdf\n",
            "PDF Created: /content/PDF_Math_Generator++_005.pdf\n",
            "PDF Created: /content/PDF_Math_Generator++_006.pdf\n",
            "PDF Created: /content/PDF_Math_Generator++_007.pdf\n",
            "PDF Created: /content/PDF_Math_Generator++_008.pdf\n",
            "PDF Created: /content/PDF_Math_Generator++_009.pdf\n",
            "PDF Created: /content/PDF_Math_Generator++_010.pdf\n",
            "updating: content/PDF_Math_Generator++_001.pdf (deflated 44%)\n",
            "updating: content/PDF_Math_Generator++_002.pdf (deflated 44%)\n",
            "updating: content/PDF_Math_Generator++_003.pdf (deflated 44%)\n",
            "updating: content/PDF_Math_Generator++_004.pdf (deflated 44%)\n",
            "updating: content/PDF_Math_Generator++_005.pdf (deflated 44%)\n",
            "updating: content/PDF_Math_Generator++_006.pdf (deflated 44%)\n",
            "updating: content/PDF_Math_Generator++_007.pdf (deflated 44%)\n",
            "updating: content/PDF_Math_Generator++_008.pdf (deflated 44%)\n",
            "updating: content/PDF_Math_Generator++_009.pdf (deflated 44%)\n",
            "updating: content/PDF_Math_Generator++_010.pdf (deflated 44%)\n"
          ]
        },
        {
          "output_type": "display_data",
          "data": {
            "text/plain": [
              "<IPython.core.display.Javascript object>"
            ],
            "application/javascript": [
              "\n",
              "    async function download(id, filename, size) {\n",
              "      if (!google.colab.kernel.accessAllowed) {\n",
              "        return;\n",
              "      }\n",
              "      const div = document.createElement('div');\n",
              "      const label = document.createElement('label');\n",
              "      label.textContent = `Downloading \"${filename}\": `;\n",
              "      div.appendChild(label);\n",
              "      const progress = document.createElement('progress');\n",
              "      progress.max = size;\n",
              "      div.appendChild(progress);\n",
              "      document.body.appendChild(div);\n",
              "\n",
              "      const buffers = [];\n",
              "      let downloaded = 0;\n",
              "\n",
              "      const channel = await google.colab.kernel.comms.open(id);\n",
              "      // Send a message to notify the kernel that we're ready.\n",
              "      channel.send({})\n",
              "\n",
              "      for await (const message of channel.messages) {\n",
              "        // Send a message to notify the kernel that we're ready.\n",
              "        channel.send({})\n",
              "        if (message.buffers) {\n",
              "          for (const buffer of message.buffers) {\n",
              "            buffers.push(buffer);\n",
              "            downloaded += buffer.byteLength;\n",
              "            progress.value = downloaded;\n",
              "          }\n",
              "        }\n",
              "      }\n",
              "      const blob = new Blob(buffers, {type: 'application/binary'});\n",
              "      const a = document.createElement('a');\n",
              "      a.href = window.URL.createObjectURL(blob);\n",
              "      a.download = filename;\n",
              "      div.appendChild(a);\n",
              "      a.click();\n",
              "      div.remove();\n",
              "    }\n",
              "  "
            ]
          },
          "metadata": {}
        },
        {
          "output_type": "display_data",
          "data": {
            "text/plain": [
              "<IPython.core.display.Javascript object>"
            ],
            "application/javascript": [
              "download(\"download_44c254cc-b10c-40e8-9888-870ce8ae5f08\", \"math_files.zip\", 1524060)"
            ]
          },
          "metadata": {}
        }
      ],
      "source": [
        "import random\n",
        "import math\n",
        "\n",
        "def generate_math_problems(num_problems):\n",
        "    problems = []\n",
        "    operations = ['+', '-', 'x', '/', '^', '√']\n",
        "    while len(problems) < num_problems:\n",
        "        num_operators = random.choice([1, 2])\n",
        "        if num_operators == 1:\n",
        "            op = random.choice(operations)\n",
        "            num1 = random.randint(1, 50)\n",
        "            if op == '√':\n",
        "                num1 = random.randint(1, 400)\n",
        "                answer = math.sqrt(num1)\n",
        "                if answer.is_integer() and abs(answer) < 10**3:\n",
        "                    problem = f\"√{num1} = \"\n",
        "                    problems.append((problem, int(answer)))\n",
        "            else:\n",
        "                num2 = random.randint(1, 20)\n",
        "                if op == '/':\n",
        "                    num1 = num1 * num2\n",
        "                    answer = num1 // num2\n",
        "                elif op == '^':\n",
        "                    num2 = random.randint(2, 3)\n",
        "                    answer = num1 ** num2\n",
        "                elif op == '+':\n",
        "                    answer = num1 + num2\n",
        "                elif op == '-':\n",
        "                    answer = num1 - num2\n",
        "                elif op == 'x':\n",
        "                    answer = num1 * num2\n",
        "                if isinstance(answer, int) and abs(answer) < 10**3:\n",
        "                    problem = f\"{num1} {op} {num2} = \"\n",
        "                    problems.append((problem, answer))\n",
        "        else:\n",
        "            num1 = random.randint(1, 20)\n",
        "            num2 = random.randint(1, 20)\n",
        "            num3 = random.randint(1, 20)\n",
        "            op1, op2 = random.choices(operations[:5], k=2)\n",
        "            if op1 == '/':\n",
        "                num1 = num1 * num2\n",
        "            if op2 == '/':\n",
        "                num2 = num2 * num3\n",
        "            try:\n",
        "                expression = f\"({num1}{op1.replace('x', '*').replace('^', '**')}{num2}){op2.replace('x', '*').replace('^', '**')}{num3}\"\n",
        "                answer = eval(expression)\n",
        "                if isinstance(answer, int) and abs(answer) < 10**3:\n",
        "                    problem = f\"({num1} {op1} {num2}) {op2} {num3} = \"\n",
        "                    problems.append((problem, answer))\n",
        "            except (ZeroDivisionError, OverflowError):\n",
        "                continue\n",
        "    return problems\n",
        "\n",
        "def save_to_pdf(problems, filename):\n",
        "    c = canvas.Canvas(filename, pagesize=A4)\n",
        "    width, height = A4\n",
        "    y_position = height - 50\n",
        "    c.setFont(\"Helvetica\", 12)\n",
        "    for i, (problem, answer) in enumerate(problems, start=1):\n",
        "        question_text = f\"{i}.) {problem}\"\n",
        "        answer_label = \"Answer:\"\n",
        "        answer_text = f\"{answer}\"\n",
        "        c.drawString(50, y_position, question_text)\n",
        "        c.drawString(400, y_position, f\"{answer_label} {answer}\")\n",
        "        y_position -= 30\n",
        "        if y_position < 50 and i < len(problems):\n",
        "            c.showPage()\n",
        "            c.setFont(\"Helvetica\", 12)\n",
        "            y_position = height - 50\n",
        "    c.save()\n",
        "\n",
        "num_problems = 2025\n",
        "k = 0\n",
        "pdf_files = []\n",
        "for i in range(10):\n",
        "    problems = generate_math_problems(num_problems)\n",
        "    filename = f\"/content/PDF_Math_Generator++_{str(i+1+k).zfill(3)}.pdf\"\n",
        "    save_to_pdf(problems, filename)\n",
        "    pdf_files.append(filename)\n",
        "    print(f\"PDF Created: {filename}\")\n",
        "\n",
        "!zip /content/math_files.zip /content/PDF_Math_Generator++_*.pdf\n",
        "\n",
        "from google.colab import files\n",
        "files.download('/content/math_files.zip')"
      ]
    }
  ],
  "metadata": {
    "colab": {
      "provenance": []
    },
    "kernelspec": {
      "display_name": "Python 3",
      "name": "python3"
    },
    "language_info": {
      "name": "python"
    }
  },
  "nbformat": 4,
  "nbformat_minor": 0
}